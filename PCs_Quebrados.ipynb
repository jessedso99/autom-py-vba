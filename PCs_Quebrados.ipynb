{
  "nbformat": 4,
  "nbformat_minor": 0,
  "metadata": {
    "colab": {
      "provenance": [],
      "authorship_tag": "ABX9TyM5gTqvfhwE9ASCfJF9g2H0"
    },
    "kernelspec": {
      "name": "python3",
      "display_name": "Python 3"
    },
    "language_info": {
      "name": "python"
    }
  },
  "cells": [
    {
      "cell_type": "code",
      "execution_count": null,
      "metadata": {
        "id": "HRKy82veweoS"
      },
      "outputs": [],
      "source": [
        "import pandas as pd\n",
        "from google.colab import files\n",
        "import datetime\n",
        "\n",
        "hoje = datetime.datetime.now()"
      ]
    },
    {
      "cell_type": "code",
      "source": [
        "nomeBase = input(\"Digite exatamente o nome do arquivo base e a sua extensão: (ex: base.xlsx)\")"
      ],
      "metadata": {
        "colab": {
          "base_uri": "https://localhost:8080/"
        },
        "id": "AwTHrDQnCPfB",
        "outputId": "a370faa5-dfdc-46bc-8226-fa750d82cdc2"
      },
      "execution_count": null,
      "outputs": [
        {
          "name": "stdout",
          "output_type": "stream",
          "text": [
            "Digite exatamente o nome do arquivo base e a sua extensão: (ex: base.xlsx)02 Fevereiro - PCs quebrados.xlsx\n"
          ]
        }
      ]
    },
    {
      "cell_type": "code",
      "source": [
        "pcsdata = pd.read_excel(nomeBase, sheet_name=0)"
      ],
      "metadata": {
        "id": "QFSctjVsCQag"
      },
      "execution_count": null,
      "outputs": []
    },
    {
      "cell_type": "code",
      "source": [
        "dfdata = pd.DataFrame(pcsdata, columns =[\"PC\", \"FORNECEDOR\", \"DESC_CCUST\", \"RAZAO_SOC\", \"VLR_TOTAL\", \"ANO\", \"MÊS EMISSÃO\"])\n",
        "dfdata[\"PC\"] = dfdata[\"PC\"].astype(\"object\")\n",
        "display(dfdata)"
      ],
      "metadata": {
        "id": "9UOIq9T5CTls"
      },
      "execution_count": null,
      "outputs": []
    },
    {
      "cell_type": "code",
      "source": [
        "filtros1 = (dfdata.loc[(dfdata[\"ANO\"] == hoje.year) & (dfdata[\"MÊS EMISSÃO\"] == (hoje.month-1))]).sort_values(by=[\"PC\"])\n",
        "filtros1Soma = filtros1.groupby([\"PC\", \"FORNECEDOR\", \"RAZAO_SOC\", \"DESC_CCUST\", \"ANO\", \"MÊS EMISSÃO\"], as_index=False)[\"VLR_TOTAL\"].sum()\n",
        "display(filtros1Soma)\n",
        "filtros1Soma = filtros1Soma.sort_values(by=[\"PC\"])\n",
        "filtros1Soma[\"REAL_VLR_TOTAL\"] = \"\"\n",
        "#display(filtros1Soma)\n",
        "\n",
        "coluna_DESC_CCUST = filtros1Soma[\"DESC_CCUST\"].values.tolist()\n",
        "DESC_CCUST = list(set(coluna_DESC_CCUST))\n",
        "#display((DESC_CCUST))\n",
        "\n",
        "x = 4 # <----- INDEX PARA TROCAR AS EMRPESAS NO RELATORIOS\n",
        "valSuperior = filtros1Soma.loc[(filtros1Soma[\"DESC_CCUST\"] == DESC_CCUST[x])]# & (filtros1Soma[\"VLR_TOTAL\"] >= 100000)]\n",
        "#display(valSuperior)\n",
        "#display(valSuperior([\"PC\", \"FORNECEDOR\", \"RAZAO_SOC\"], as_index=False))[\"VLR_TOTAL\"].sum()"
      ],
      "metadata": {
        "id": "OeY4Qy5iDiFg",
        "colab": {
          "base_uri": "https://localhost:8080/",
          "height": 528
        },
        "outputId": "c6f04d2d-f1aa-4f64-8c24-ca5789861996"
      },
      "execution_count": null,
      "outputs": [
        {
          "output_type": "display_data",
          "data": {
            "text/plain": [
              "          PC FORNECEDOR                                          RAZAO_SOC  \\\n",
              "0      139.0      616-1                         EXTINSERRA EXTINTORES LTDA   \n",
              "1      141.0    10829-1  FIO E FERRO MATERIAIS SERVICOS E CONSTRUCOERS ...   \n",
              "2      142.0      272-1                       THL CARGAS E ENCOMENDAS LTDA   \n",
              "3      143.0      425-1  COPABO INDUSTRIA E COMERCIO DE PRODUTOS TECNIC...   \n",
              "4      144.0       25-1                        D C DE ASSIS COM E SERVICOS   \n",
              "..       ...        ...                                                ...   \n",
              "907  97621.0    14732-1                        ELAINE MARIA RIBEIRO SOARES   \n",
              "908  97622.0    14831-1                               VSC TRANSPORTES LTDA   \n",
              "909  97625.0    14831-1                               VSC TRANSPORTES LTDA   \n",
              "910  97626.0     5959-2                       TRIMAK ENGENHARIA E COM LTDA   \n",
              "911  97627.0     7248-6                A GERADORA ALUGUEL DE MAQUINAS S.A.   \n",
              "\n",
              "                                  DESC_CCUST     ANO  MÊS EMISSÃO  VLR_TOTAL  \n",
              "0    OS 145 - VALE  WIND FENCE - CTC & MTVIX  2023.0          2.0    2902.40  \n",
              "1    OS 145 - VALE  WIND FENCE - CTC & MTVIX  2023.0          2.0     274.90  \n",
              "2    OS 145 - VALE  WIND FENCE - CTC & MTVIX  2023.0          2.0     860.00  \n",
              "3    OS 145 - VALE  WIND FENCE - CTC & MTVIX  2023.0          2.0   23702.20  \n",
              "4    OS 145 - VALE  WIND FENCE - CTC & MTVIX  2023.0          2.0    3177.98  \n",
              "..                                       ...     ...          ...        ...  \n",
              "907                 OS 142 - VALE WIND FENCE  2023.0          2.0    3746.56  \n",
              "908                 OS 142 - VALE WIND FENCE  2023.0          2.0   10698.61  \n",
              "909                 OS 142 - VALE WIND FENCE  2023.0          2.0   51298.89  \n",
              "910                 OS 142 - VALE WIND FENCE  2023.0          2.0   96892.85  \n",
              "911                 OS 142 - VALE WIND FENCE  2023.0          2.0  167942.37  \n",
              "\n",
              "[912 rows x 7 columns]"
            ],
            "text/html": [
              "\n",
              "  <div id=\"df-8cde80ed-e7ec-4d34-8b32-fd5801555432\">\n",
              "    <div class=\"colab-df-container\">\n",
              "      <div>\n",
              "<style scoped>\n",
              "    .dataframe tbody tr th:only-of-type {\n",
              "        vertical-align: middle;\n",
              "    }\n",
              "\n",
              "    .dataframe tbody tr th {\n",
              "        vertical-align: top;\n",
              "    }\n",
              "\n",
              "    .dataframe thead th {\n",
              "        text-align: right;\n",
              "    }\n",
              "</style>\n",
              "<table border=\"1\" class=\"dataframe\">\n",
              "  <thead>\n",
              "    <tr style=\"text-align: right;\">\n",
              "      <th></th>\n",
              "      <th>PC</th>\n",
              "      <th>FORNECEDOR</th>\n",
              "      <th>RAZAO_SOC</th>\n",
              "      <th>DESC_CCUST</th>\n",
              "      <th>ANO</th>\n",
              "      <th>MÊS EMISSÃO</th>\n",
              "      <th>VLR_TOTAL</th>\n",
              "    </tr>\n",
              "  </thead>\n",
              "  <tbody>\n",
              "    <tr>\n",
              "      <th>0</th>\n",
              "      <td>139.0</td>\n",
              "      <td>616-1</td>\n",
              "      <td>EXTINSERRA EXTINTORES LTDA</td>\n",
              "      <td>OS 145 - VALE  WIND FENCE - CTC &amp; MTVIX</td>\n",
              "      <td>2023.0</td>\n",
              "      <td>2.0</td>\n",
              "      <td>2902.40</td>\n",
              "    </tr>\n",
              "    <tr>\n",
              "      <th>1</th>\n",
              "      <td>141.0</td>\n",
              "      <td>10829-1</td>\n",
              "      <td>FIO E FERRO MATERIAIS SERVICOS E CONSTRUCOERS ...</td>\n",
              "      <td>OS 145 - VALE  WIND FENCE - CTC &amp; MTVIX</td>\n",
              "      <td>2023.0</td>\n",
              "      <td>2.0</td>\n",
              "      <td>274.90</td>\n",
              "    </tr>\n",
              "    <tr>\n",
              "      <th>2</th>\n",
              "      <td>142.0</td>\n",
              "      <td>272-1</td>\n",
              "      <td>THL CARGAS E ENCOMENDAS LTDA</td>\n",
              "      <td>OS 145 - VALE  WIND FENCE - CTC &amp; MTVIX</td>\n",
              "      <td>2023.0</td>\n",
              "      <td>2.0</td>\n",
              "      <td>860.00</td>\n",
              "    </tr>\n",
              "    <tr>\n",
              "      <th>3</th>\n",
              "      <td>143.0</td>\n",
              "      <td>425-1</td>\n",
              "      <td>COPABO INDUSTRIA E COMERCIO DE PRODUTOS TECNIC...</td>\n",
              "      <td>OS 145 - VALE  WIND FENCE - CTC &amp; MTVIX</td>\n",
              "      <td>2023.0</td>\n",
              "      <td>2.0</td>\n",
              "      <td>23702.20</td>\n",
              "    </tr>\n",
              "    <tr>\n",
              "      <th>4</th>\n",
              "      <td>144.0</td>\n",
              "      <td>25-1</td>\n",
              "      <td>D C DE ASSIS COM E SERVICOS</td>\n",
              "      <td>OS 145 - VALE  WIND FENCE - CTC &amp; MTVIX</td>\n",
              "      <td>2023.0</td>\n",
              "      <td>2.0</td>\n",
              "      <td>3177.98</td>\n",
              "    </tr>\n",
              "    <tr>\n",
              "      <th>...</th>\n",
              "      <td>...</td>\n",
              "      <td>...</td>\n",
              "      <td>...</td>\n",
              "      <td>...</td>\n",
              "      <td>...</td>\n",
              "      <td>...</td>\n",
              "      <td>...</td>\n",
              "    </tr>\n",
              "    <tr>\n",
              "      <th>907</th>\n",
              "      <td>97621.0</td>\n",
              "      <td>14732-1</td>\n",
              "      <td>ELAINE MARIA RIBEIRO SOARES</td>\n",
              "      <td>OS 142 - VALE WIND FENCE</td>\n",
              "      <td>2023.0</td>\n",
              "      <td>2.0</td>\n",
              "      <td>3746.56</td>\n",
              "    </tr>\n",
              "    <tr>\n",
              "      <th>908</th>\n",
              "      <td>97622.0</td>\n",
              "      <td>14831-1</td>\n",
              "      <td>VSC TRANSPORTES LTDA</td>\n",
              "      <td>OS 142 - VALE WIND FENCE</td>\n",
              "      <td>2023.0</td>\n",
              "      <td>2.0</td>\n",
              "      <td>10698.61</td>\n",
              "    </tr>\n",
              "    <tr>\n",
              "      <th>909</th>\n",
              "      <td>97625.0</td>\n",
              "      <td>14831-1</td>\n",
              "      <td>VSC TRANSPORTES LTDA</td>\n",
              "      <td>OS 142 - VALE WIND FENCE</td>\n",
              "      <td>2023.0</td>\n",
              "      <td>2.0</td>\n",
              "      <td>51298.89</td>\n",
              "    </tr>\n",
              "    <tr>\n",
              "      <th>910</th>\n",
              "      <td>97626.0</td>\n",
              "      <td>5959-2</td>\n",
              "      <td>TRIMAK ENGENHARIA E COM LTDA</td>\n",
              "      <td>OS 142 - VALE WIND FENCE</td>\n",
              "      <td>2023.0</td>\n",
              "      <td>2.0</td>\n",
              "      <td>96892.85</td>\n",
              "    </tr>\n",
              "    <tr>\n",
              "      <th>911</th>\n",
              "      <td>97627.0</td>\n",
              "      <td>7248-6</td>\n",
              "      <td>A GERADORA ALUGUEL DE MAQUINAS S.A.</td>\n",
              "      <td>OS 142 - VALE WIND FENCE</td>\n",
              "      <td>2023.0</td>\n",
              "      <td>2.0</td>\n",
              "      <td>167942.37</td>\n",
              "    </tr>\n",
              "  </tbody>\n",
              "</table>\n",
              "<p>912 rows × 7 columns</p>\n",
              "</div>\n",
              "      <button class=\"colab-df-convert\" onclick=\"convertToInteractive('df-8cde80ed-e7ec-4d34-8b32-fd5801555432')\"\n",
              "              title=\"Convert this dataframe to an interactive table.\"\n",
              "              style=\"display:none;\">\n",
              "        \n",
              "  <svg xmlns=\"http://www.w3.org/2000/svg\" height=\"24px\"viewBox=\"0 0 24 24\"\n",
              "       width=\"24px\">\n",
              "    <path d=\"M0 0h24v24H0V0z\" fill=\"none\"/>\n",
              "    <path d=\"M18.56 5.44l.94 2.06.94-2.06 2.06-.94-2.06-.94-.94-2.06-.94 2.06-2.06.94zm-11 1L8.5 8.5l.94-2.06 2.06-.94-2.06-.94L8.5 2.5l-.94 2.06-2.06.94zm10 10l.94 2.06.94-2.06 2.06-.94-2.06-.94-.94-2.06-.94 2.06-2.06.94z\"/><path d=\"M17.41 7.96l-1.37-1.37c-.4-.4-.92-.59-1.43-.59-.52 0-1.04.2-1.43.59L10.3 9.45l-7.72 7.72c-.78.78-.78 2.05 0 2.83L4 21.41c.39.39.9.59 1.41.59.51 0 1.02-.2 1.41-.59l7.78-7.78 2.81-2.81c.8-.78.8-2.07 0-2.86zM5.41 20L4 18.59l7.72-7.72 1.47 1.35L5.41 20z\"/>\n",
              "  </svg>\n",
              "      </button>\n",
              "      \n",
              "  <style>\n",
              "    .colab-df-container {\n",
              "      display:flex;\n",
              "      flex-wrap:wrap;\n",
              "      gap: 12px;\n",
              "    }\n",
              "\n",
              "    .colab-df-convert {\n",
              "      background-color: #E8F0FE;\n",
              "      border: none;\n",
              "      border-radius: 50%;\n",
              "      cursor: pointer;\n",
              "      display: none;\n",
              "      fill: #1967D2;\n",
              "      height: 32px;\n",
              "      padding: 0 0 0 0;\n",
              "      width: 32px;\n",
              "    }\n",
              "\n",
              "    .colab-df-convert:hover {\n",
              "      background-color: #E2EBFA;\n",
              "      box-shadow: 0px 1px 2px rgba(60, 64, 67, 0.3), 0px 1px 3px 1px rgba(60, 64, 67, 0.15);\n",
              "      fill: #174EA6;\n",
              "    }\n",
              "\n",
              "    [theme=dark] .colab-df-convert {\n",
              "      background-color: #3B4455;\n",
              "      fill: #D2E3FC;\n",
              "    }\n",
              "\n",
              "    [theme=dark] .colab-df-convert:hover {\n",
              "      background-color: #434B5C;\n",
              "      box-shadow: 0px 1px 3px 1px rgba(0, 0, 0, 0.15);\n",
              "      filter: drop-shadow(0px 1px 2px rgba(0, 0, 0, 0.3));\n",
              "      fill: #FFFFFF;\n",
              "    }\n",
              "  </style>\n",
              "\n",
              "      <script>\n",
              "        const buttonEl =\n",
              "          document.querySelector('#df-8cde80ed-e7ec-4d34-8b32-fd5801555432 button.colab-df-convert');\n",
              "        buttonEl.style.display =\n",
              "          google.colab.kernel.accessAllowed ? 'block' : 'none';\n",
              "\n",
              "        async function convertToInteractive(key) {\n",
              "          const element = document.querySelector('#df-8cde80ed-e7ec-4d34-8b32-fd5801555432');\n",
              "          const dataTable =\n",
              "            await google.colab.kernel.invokeFunction('convertToInteractive',\n",
              "                                                     [key], {});\n",
              "          if (!dataTable) return;\n",
              "\n",
              "          const docLinkHtml = 'Like what you see? Visit the ' +\n",
              "            '<a target=\"_blank\" href=https://colab.research.google.com/notebooks/data_table.ipynb>data table notebook</a>'\n",
              "            + ' to learn more about interactive tables.';\n",
              "          element.innerHTML = '';\n",
              "          dataTable['output_type'] = 'display_data';\n",
              "          await google.colab.output.renderOutput(dataTable, element);\n",
              "          const docLink = document.createElement('div');\n",
              "          docLink.innerHTML = docLinkHtml;\n",
              "          element.appendChild(docLink);\n",
              "        }\n",
              "      </script>\n",
              "    </div>\n",
              "  </div>\n",
              "  "
            ]
          },
          "metadata": {}
        },
        {
          "output_type": "display_data",
          "data": {
            "text/plain": [
              "['OS 145 - VALE  WIND FENCE - CTC & MTVIX',\n",
              " 'OS 142 - VALE WIND FENCE',\n",
              " 'OS 146 - ELDORADO (VIADUTO)',\n",
              " 'TERMINAL ITAQUI',\n",
              " 'OBRA STS14A SANTOS - BRACELL',\n",
              " 'ELDORADO BR CELULOSE - OS 141']"
            ]
          },
          "metadata": {}
        }
      ]
    },
    {
      "cell_type": "code",
      "source": [
        "#listaPCs = valSuperior.loc[:,\"PC\"].values.tolist()\n",
        "listaPCs = valSuperior.loc[:,\"PC\"].values.tolist()\n",
        "#print(listaPCs)\n",
        "new_df = valSuperior.values.tolist()\n",
        "#display(new_df)"
      ],
      "metadata": {
        "id": "fLKKuAAIYRHb"
      },
      "execution_count": null,
      "outputs": []
    },
    {
      "cell_type": "code",
      "source": [
        "for i in range(0, len(new_df)):\n",
        "  test_list = filtros1.loc[(filtros1[\"PC\"] == listaPCs[i])]\n",
        "  test_list = filtros1.loc[(filtros1[\"RAZAO_SOC\"] == listaPCs[i])]\n",
        "  new_df[i][7] = sum(list(set(test_list[\"VLR_TOTAL\"])))\n",
        "#display(new_df)"
      ],
      "metadata": {
        "id": "fe0GEgB5YxBq"
      },
      "execution_count": null,
      "outputs": []
    },
    {
      "cell_type": "code",
      "source": [
        "resultado = pd.DataFrame(new_df).drop(columns=[0,4, 5, 6])\n",
        "resultado.rename(columns={1: \"FORNECEDOR\", 2: \"RAZAO_SOC\", 3: \"DESC_CCUST\", 7: \"REAL_VLR_TOTAL\"}, inplace=True) #0: \"PC\", \n",
        "\n",
        "resultFinal2 = resultado.groupby(['FORNECEDOR', 'RAZAO_SOC']).agg({\"REAL_VLR_TOTAL\":[\"count\", \"sum\"]})\n",
        "resultFinal3 = resultFinal2.sort_values(('REAL_VLR_TOTAL', 'sum'), ascending=False)\n",
        "\n",
        "# ========== RESULTADO FINAL ========== #\n",
        "resultFinal4 = resultFinal3.loc[(resultFinal3[('REAL_VLR_TOTAL', 'sum')] >= 100000)]# & (resultFinal3[('REAL_VLR_TOTAL', 'count')] > 1)]\n",
        "print(\"\\n\\t\\t\\t\" + DESC_CCUST[x] + \"\\n\")\n",
        "display(resultFinal4)"
      ],
      "metadata": {
        "id": "i8YWGqmWY8ta"
      },
      "execution_count": null,
      "outputs": []
    },
    {
      "cell_type": "code",
      "source": [
        "# ========== EXPORTANDO PRO EXCEL ========== #\n",
        "titulo = f'{hoje.month}_{hoje.year}_PCs_Quebrados.xlsx'\n",
        "baixarExcel = resultFinal4.to_excel(titulo)\n",
        "files.download(titulo)"
      ],
      "metadata": {
        "colab": {
          "base_uri": "https://localhost:8080/",
          "height": 17
        },
        "id": "2BzjNm-oXXsM",
        "outputId": "309bec6d-8aa8-45e8-f4e3-4a6e0ea72af3"
      },
      "execution_count": null,
      "outputs": [
        {
          "output_type": "display_data",
          "data": {
            "text/plain": [
              "<IPython.core.display.Javascript object>"
            ],
            "application/javascript": [
              "\n",
              "    async function download(id, filename, size) {\n",
              "      if (!google.colab.kernel.accessAllowed) {\n",
              "        return;\n",
              "      }\n",
              "      const div = document.createElement('div');\n",
              "      const label = document.createElement('label');\n",
              "      label.textContent = `Downloading \"${filename}\": `;\n",
              "      div.appendChild(label);\n",
              "      const progress = document.createElement('progress');\n",
              "      progress.max = size;\n",
              "      div.appendChild(progress);\n",
              "      document.body.appendChild(div);\n",
              "\n",
              "      const buffers = [];\n",
              "      let downloaded = 0;\n",
              "\n",
              "      const channel = await google.colab.kernel.comms.open(id);\n",
              "      // Send a message to notify the kernel that we're ready.\n",
              "      channel.send({})\n",
              "\n",
              "      for await (const message of channel.messages) {\n",
              "        // Send a message to notify the kernel that we're ready.\n",
              "        channel.send({})\n",
              "        if (message.buffers) {\n",
              "          for (const buffer of message.buffers) {\n",
              "            buffers.push(buffer);\n",
              "            downloaded += buffer.byteLength;\n",
              "            progress.value = downloaded;\n",
              "          }\n",
              "        }\n",
              "      }\n",
              "      const blob = new Blob(buffers, {type: 'application/binary'});\n",
              "      const a = document.createElement('a');\n",
              "      a.href = window.URL.createObjectURL(blob);\n",
              "      a.download = filename;\n",
              "      div.appendChild(a);\n",
              "      a.click();\n",
              "      div.remove();\n",
              "    }\n",
              "  "
            ]
          },
          "metadata": {}
        },
        {
          "output_type": "display_data",
          "data": {
            "text/plain": [
              "<IPython.core.display.Javascript object>"
            ],
            "application/javascript": [
              "download(\"download_d7191ff6-e5b7-4a60-8bc0-d02d67f44b61\", \"3_2023_PCs_Quebrados.xlsx\", 5368)"
            ]
          },
          "metadata": {}
        }
      ]
    }
  ]
}