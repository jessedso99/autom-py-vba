{
  "nbformat": 4,
  "nbformat_minor": 0,
  "metadata": {
    "colab": {
      "provenance": [],
      "authorship_tag": "ABX9TyPwptsaY59fYckiZP9t6sMl",
      "include_colab_link": true
    },
    "kernelspec": {
      "name": "python3",
      "display_name": "Python 3"
    },
    "language_info": {
      "name": "python"
    }
  },
  "cells": [
    {
      "cell_type": "markdown",
      "metadata": {
        "id": "view-in-github",
        "colab_type": "text"
      },
      "source": [
        "<a href=\"https://colab.research.google.com/github/jessedso99/ctc_autom/blob/main/Gest%C3%A3o_de_Contratos_GCT.ipynb\" target=\"_parent\"><img src=\"https://colab.research.google.com/assets/colab-badge.svg\" alt=\"Open In Colab\"/></a>"
      ]
    },
    {
      "cell_type": "code",
      "source": [
        "import pandas as pd\n",
        "import datetime\n",
        "hoje = datetime.datetime.now()"
      ],
      "metadata": {
        "id": "-qkGy_ke3VOV"
      },
      "execution_count": null,
      "outputs": []
    },
    {
      "cell_type": "code",
      "execution_count": null,
      "metadata": {
        "id": "DDClZPkxrFaP",
        "colab": {
          "base_uri": "https://localhost:8080/"
        },
        "outputId": "4d5f2eb6-2c16-473c-dcfa-5f957f39a5c6"
      },
      "outputs": [
        {
          "name": "stdout",
          "output_type": "stream",
          "text": [
            "Digite exatamente o nome do arquivo base e a sua extensão: (ex: base.xlsx)BRACEL.xlsx\n"
          ]
        }
      ],
      "source": [
        "nomeBase = input(\"Digite exatamente o nome do arquivo base e a sua extensão: (ex: base.xlsx)\")"
      ]
    },
    {
      "cell_type": "code",
      "source": [
        "gctsdata = pd.read_excel(nomeBase, sheet_name=0, skiprows=2)\n",
        "dfgct = pd.DataFrame(gctsdata, columns =[\"Nr. Contrato\", \"Nome Fornec.\", \"Data Final\", \"Data Inicio\", \"Vl. Inicial\", \"Valor Atual\", \"Saldo\", \"Usu Inclusao\", \"SEDE/OBRA\", \"Situacao\", \"Desc.C.Custo\"])\n",
        "filtroSituacao = dfgct.loc[((dfgct[\"Situacao\"] == \"Vigente\") | (dfgct[\"Situacao\"] == \"Finali\"))]\n",
        "# filtroSituacao = dfgct.loc[(((dfgct[\"Situacao\"] == \"Vigente\") | (dfgct[\"Situacao\"] == \"Finali\")) & (dfgct[\"Desc.C.Custo\"] == \"OS 142 - VALE WIND FENCE\"))] # PARA VALE 1 E 2 # (\"OS 142 - VALE WIND FENCE\"; \"OS 146 - ELDORADO (VIADUTO)\")\n",
        "filtroSituacao"
      ],
      "metadata": {
        "id": "owsECo2U3NEV"
      },
      "execution_count": null,
      "outputs": []
    },
    {
      "cell_type": "code",
      "source": [
        "#IMPORANTE: OBSERVAR A DATA BASE NO INICIO DE CADA ANO, POIS ELA CONSIDERA UM PERIODO ANTERIOR\n",
        "data_Base = str(datetime.datetime.strptime(\"1-\"+str(hoje.month)+\"-\"+str(hoje.year), \"%d-%m-%Y\").date())\n",
        "dataBase_60 = str(datetime.datetime.strptime(data_Base, \"%Y-%m-%d\").date() + datetime.timedelta(days = 60))\n",
        "\n",
        "qntCt = len(filtroSituacao[\"Nr. Contrato\"]) # K3\n",
        "ct0 = len(filtroSituacao.loc[(filtroSituacao[\"Saldo\"] == 0)]) # K5\n",
        "ctMaior0 = qntCt - ct0 # K4\n",
        "ctVal_sSaldo = len(filtroSituacao.loc[(filtroSituacao[\"Saldo\"] == 0) & (filtroSituacao[\"Data Final\"] >= data_Base)]) # K6\n",
        "ctVencidos = len(filtroSituacao.loc[(filtroSituacao[\"Data Final\"] < data_Base)]) # K7\n",
        "somaInicial = round(filtroSituacao[\"Vl. Inicial\"].sum(), 2)\n",
        "somaAtual = round(filtroSituacao[\"Valor Atual\"].sum(), 2)\n",
        "totalAdtivo = round((somaAtual - somaInicial), 2)\n",
        "totalAberto = round(filtroSituacao[\"Saldo\"].sum(), 2)\n",
        "totalConsumido = round((somaAtual - totalAberto), 2)\n",
        "qntSede = len(filtroSituacao.loc[(filtroSituacao[\"SEDE/OBRA\"] == \"SEDE\")])\n",
        "qntObra = len(filtroSituacao.loc[(filtroSituacao[\"SEDE/OBRA\"] == \"OBRA\")])\n",
        "venc60d = len(filtroSituacao.loc[(filtroSituacao[\"Data Final\"] >= data_Base) & (filtroSituacao[\"Data Final\"] <= dataBase_60)])\n",
        "\n",
        "qnt_ctMaior100k = len(filtroSituacao[\"Valor Atual\"].loc[(filtroSituacao[\"Valor Atual\"] > 100000)])\n",
        "total_ctMaior100k = round(filtroSituacao[\"Valor Atual\"].loc[(filtroSituacao[\"Valor Atual\"] > 100000)].sum(), 2)\n",
        "sede_ctMaior100k = len(filtroSituacao[\"Valor Atual\"].loc[(filtroSituacao[\"Valor Atual\"] > 100000) & (filtroSituacao[\"SEDE/OBRA\"] == \"SEDE\")])\n",
        "sede_totalMaior100k = round(filtroSituacao[\"Valor Atual\"].loc[(filtroSituacao[\"Valor Atual\"] > 100000) & (filtroSituacao[\"SEDE/OBRA\"] == \"SEDE\")].sum(), 2)\n",
        "obra_ctMaior100k = len(filtroSituacao[\"Valor Atual\"].loc[(filtroSituacao[\"Valor Atual\"] > 100000) & (filtroSituacao[\"SEDE/OBRA\"] == \"OBRA\")])\n",
        "obra_totalMaior100k = round(filtroSituacao[\"Valor Atual\"].loc[(filtroSituacao[\"Valor Atual\"] > 100000) & (filtroSituacao[\"SEDE/OBRA\"] == \"OBRA\")].sum(), 2)"
      ],
      "metadata": {
        "id": "ErIHTj5IUUad"
      },
      "execution_count": null,
      "outputs": []
    },
    {
      "cell_type": "code",
      "source": [
        "# ==== IMPORTANTE ====\n",
        "# COLE OS RESULTADOS NO BLOCO DE NOTAS E DEPOIS NO EXCEL. TEXTO P COLUNA, SEP=\":\". ADD TITLES.\n",
        "\n",
        "# print(f'1/{hoje.month-1}/{hoje.year}\\n')\n",
        "print(f'{nomeBase[:-5]}\\n')\n",
        "\n",
        "print(f'Qtde Contratos: {qntCt}')\n",
        "print(f'Contratos >R$0: {ctMaior0}')\n",
        "print(f'Contratos =R$0: {ct0}')\n",
        "print(f'Contratos Válidos sem saldo: {ctVal_sSaldo}')\n",
        "print(f'Contratos vencidos: {ctVencidos}')\n",
        "print(f'Soma R$ inicial: {somaInicial}')\n",
        "print(f'Soma R$ Atual: {somaAtual}')\n",
        "print(f'R$ em aditivos: {totalAdtivo}')\n",
        "print(f'R$ em aditivos (%): {\"{:.0%}\".format((totalAdtivo/somaInicial))}')\n",
        "print(f'R$ em aberto: {totalAberto}')\n",
        "print(f'R$ em aberto (%): {\"{:.0%}\".format((totalAberto/somaAtual))}')\n",
        "print(f'R$ consumido: {totalConsumido}')\n",
        "print(f'R$ consumido (%): {\"{:.0%}\".format((totalConsumido/somaAtual))}')\n",
        "# print(f'Sede: {qntSede}')\n",
        "# print(f'Obra: {qntObra}')\n",
        "# print(f'Vencendo em 60 dias: {venc60d}')\n",
        "\n",
        "# print(f'Contratos >R$100k: {qnt_ctMaior100k}')\n",
        "# print(f'Contratos >R$100k: {total_ctMaior100k}')\n",
        "# print(f'Contratos >R$100k Sede: {sede_ctMaior100k}')\n",
        "# print(f'Contratos >R$100k Sede: {sede_totalMaior100k}')\n",
        "# print(f'Contratos >R$100k Obra: {obra_ctMaior100k}')\n",
        "# print(f'Contratos >R$100k Obra: {obra_totalMaior100k}')"
      ],
      "metadata": {
        "colab": {
          "base_uri": "https://localhost:8080/"
        },
        "id": "2KvKBBdGJNhw",
        "outputId": "996b86fa-8c6d-4ee1-d958-625c0f863aa9"
      },
      "execution_count": null,
      "outputs": [
        {
          "output_type": "stream",
          "name": "stdout",
          "text": [
            "BRACEL\n",
            "\n",
            "Qtde Contratos: 118\n",
            "Contratos >R$0: 90\n",
            "Contratos =R$0: 28\n",
            "Contratos Válidos sem saldo: 8\n",
            "Contratos vencidos: 30\n",
            "Soma R$ inicial: 54905003.15\n",
            "Soma R$ Atual: 70997225.55\n",
            "R$ em aditivos: 16092222.4\n",
            "R$ em aditivos (%): 29%\n",
            "R$ em aberto: 27040224.86\n",
            "R$ em aberto (%): 38%\n",
            "R$ consumido: 43957000.69\n",
            "R$ consumido (%): 62%\n"
          ]
        }
      ]
    }
  ]
}